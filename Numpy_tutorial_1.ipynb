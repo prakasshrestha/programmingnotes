{
  "nbformat": 4,
  "nbformat_minor": 0,
  "metadata": {
    "colab": {
      "name": "Numpy tutorial 1",
      "provenance": [],
      "collapsed_sections": [],
      "toc_visible": true,
      "authorship_tag": "ABX9TyMlv4/qv2jQQaXFWp7S8uq1",
      "include_colab_link": true
    },
    "kernelspec": {
      "name": "python3",
      "display_name": "Python 3"
    }
  },
  "cells": [
    {
      "cell_type": "markdown",
      "metadata": {
        "id": "view-in-github",
        "colab_type": "text"
      },
      "source": [
        "<a href=\"https://colab.research.google.com/github/prakasshrestha/programmingnotes/blob/master/Numpy_tutorial_1.ipynb\" target=\"_parent\"><img src=\"https://colab.research.google.com/assets/colab-badge.svg\" alt=\"Open In Colab\"/></a>"
      ]
    },
    {
      "cell_type": "code",
      "metadata": {
        "id": "iSuZlpf6td1j"
      },
      "source": [
        "\r\n",
        "import numpy as np\r\n",
        "from matplotlib import pyplot as plt\r\n",
        "\r\n",
        "ys = 200 + np.random.randn(100)\r\n",
        "print(ys)\r\n",
        "x = [x for x in range(len(ys))]\r\n",
        "\r\n",
        "plt.plot(x, ys, '-')\r\n",
        "plt.fill_between(x, ys, 195, where=(ys > 195), facecolor='g', alpha=0.6)\r\n",
        "\r\n",
        "plt.title(\"Sample Visualization\")\r\n",
        "plt.show()"
      ],
      "execution_count": null,
      "outputs": []
    },
    {
      "cell_type": "code",
      "metadata": {
        "id": "8e9lBCBJuLki"
      },
      "source": [
        "import numpy as np\r\n",
        "from matplotlib import pyplot as plt"
      ],
      "execution_count": null,
      "outputs": []
    },
    {
      "cell_type": "code",
      "metadata": {
        "id": "OdygZjm1uVof"
      },
      "source": [
        "\r\n",
        "ys = 200 + np.random.randn(100)"
      ],
      "execution_count": null,
      "outputs": []
    },
    {
      "cell_type": "code",
      "metadata": {
        "colab": {
          "base_uri": "https://localhost:8080/"
        },
        "id": "obbtO20buXuv",
        "outputId": "94e5583b-2298-45b2-f2c9-ab08a2cfe91e"
      },
      "source": [
        "print(ys)"
      ],
      "execution_count": null,
      "outputs": [
        {
          "output_type": "stream",
          "text": [
            "[199.09809103 199.93142039 198.62494285 200.6370896  199.9197688\n",
            " 200.85179245 201.46988464 199.25579591 200.84678131 199.24814564\n",
            " 200.54243494 199.39980004 200.82326109 199.97016649 202.31629675\n",
            " 200.94161687 201.12683331 201.30253679 202.31705127 200.88020818\n",
            " 200.81598116 201.42212104 198.3966191  201.49637772 200.10460091\n",
            " 200.469828   198.52239945 201.64721011 201.56236157 199.65444708\n",
            " 198.28598305 201.26159776 200.10713212 200.76768943 198.03182334\n",
            " 199.04291011 199.22459762 199.98885297 200.74317274 199.97754047\n",
            " 199.71935666 201.59308055 200.30937318 200.46417972 199.37940864\n",
            " 200.33402182 201.91705603 199.99962216 199.01460295 200.44438804\n",
            " 200.34867017 200.45935747 198.52029632 201.02479506 200.72877102\n",
            " 199.9606827  200.32265763 200.6770367  200.0943954  199.70313112\n",
            " 198.84181061 201.58997153 201.22383703 199.7854906  199.06068213\n",
            " 199.08232843 199.06038926 201.13028504 199.85793544 199.65694651\n",
            " 200.65569253 199.00400585 199.91003561 200.41026252 199.87950686\n",
            " 199.79060012 201.57654724 199.89841654 198.8578214  200.99728478\n",
            " 200.07804522 198.98769398 200.55412141 200.198571   202.35545969\n",
            " 201.18390105 199.73088578 200.20008538 198.98616435 199.51899698\n",
            " 200.14072646 199.47828114 200.91939987 198.82754564 200.16212525\n",
            " 201.07019786 201.66141202 199.3793535  198.78550851 201.5004867 ]\n"
          ],
          "name": "stdout"
        }
      ]
    },
    {
      "cell_type": "code",
      "metadata": {
        "id": "RJu3ldYMuaXn"
      },
      "source": [
        ""
      ],
      "execution_count": null,
      "outputs": []
    }
  ]
}